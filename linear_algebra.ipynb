{
 "cells": [
  {
   "cell_type": "markdown",
   "metadata": {},
   "source": [
    "Before you turn this problem in, make sure everything runs as expected. First, **restart the kernel** (in the menubar, select Kernel$\\rightarrow$Restart) and then **run all cells** (in the menubar, select Cell$\\rightarrow$Run All).\n",
    "\n",
    "Make sure you fill in any place that says `YOUR CODE HERE` or \"YOUR ANSWER HERE\", as well as any collaborators you worked with:"
   ]
  },
  {
   "cell_type": "code",
   "execution_count": 1,
   "metadata": {},
   "outputs": [],
   "source": [
    "COLLABORATORS = \"\""
   ]
  },
  {
   "cell_type": "markdown",
   "metadata": {},
   "source": [
    "---"
   ]
  },
  {
   "cell_type": "code",
   "execution_count": 1,
   "metadata": {},
   "outputs": [],
   "source": [
    "from __future__ import print_function\n",
    "%matplotlib inline\n",
    "%precision 16\n",
    "import numpy\n",
    "import matplotlib.pyplot as plt\n",
    "import time"
   ]
  },
  {
   "cell_type": "markdown",
   "metadata": {
    "deletable": false,
    "editable": false,
    "nbgrader": {
     "cell_type": "markdown",
     "checksum": "f62b3cb0afd2d6e2c63a54956a4d1185",
     "grade": false,
     "grade_id": "cell-6282430347078978",
     "locked": true,
     "schema_version": 3,
     "solution": false
    }
   },
   "source": [
    "# HW 7:  Intro to Linear Algebra\n",
    "\n"
   ]
  },
  {
   "cell_type": "markdown",
   "metadata": {
    "deletable": false,
    "editable": false,
    "nbgrader": {
     "cell_type": "markdown",
     "checksum": "945d8fe27832662b80abea0165c227d9",
     "grade": false,
     "grade_id": "cell-44c8b908984ef1e5",
     "locked": true,
     "schema_version": 3,
     "solution": false,
     "task": false
    }
   },
   "source": [
    "# Linear Algebra: Part 1"
   ]
  },
  {
   "cell_type": "markdown",
   "metadata": {
    "deletable": false,
    "editable": false,
    "nbgrader": {
     "cell_type": "markdown",
     "checksum": "375193d42fad3b5b058388a273373db3",
     "grade": false,
     "grade_id": "cell-5c00cac6658708b9",
     "locked": true,
     "schema_version": 3,
     "solution": false,
     "task": false
    }
   },
   "source": [
    "## Question 1: Matrix Norms and Condition Numbers\n",
    "\n",
    "Consider the Matrices\n",
    "\n",
    "$$\n",
    "    A = \\begin{bmatrix} 1 & 1 \\\\\n",
    "                        1 & a \\\\\n",
    "         \\end{bmatrix} \\quad\\quad\n",
    "     A^{-1} = \\frac{1}{a-1}\\begin{bmatrix} a & -1 \\\\\n",
    "                        -1 & 1 \\\\\n",
    "         \\end{bmatrix} \n",
    "$$\n",
    "where $a\\in\\mathbb{R}$"
   ]
  },
  {
   "cell_type": "markdown",
   "metadata": {
    "deletable": false,
    "editable": false,
    "nbgrader": {
     "cell_type": "markdown",
     "checksum": "9d7e1ac48fb1830efd68fa829c66546c",
     "grade": false,
     "grade_id": "cell-d8dd915976890ea8",
     "locked": true,
     "schema_version": 3,
     "solution": false,
     "task": false
    }
   },
   "source": [
    "**(a)** [6] Analytically calculate, as a function of $a$\n",
    "\n",
    "* the induced $p$-norm $||A||_p$ \n",
    "* the $p$ condition number $\\kappa_p(A) =||A||_p||A^{-1}||_p$ \n",
    "\n",
    "consider  $p=1,2,\\infty$\n",
    "\n",
    "(hint: for a symmetric matrix, the singular values are equal to the absolute value of the eigenvalues of $A$ (sorted from largest to smallest))"
   ]
  },
  {
   "cell_type": "markdown",
   "metadata": {
    "deletable": false,
    "nbgrader": {
     "cell_type": "markdown",
     "checksum": "310fd020c52ea030a0b60ce06ba7da93",
     "grade": true,
     "grade_id": "cell-d7fc247b7e748b9b",
     "locked": false,
     "points": 6,
     "schema_version": 3,
     "solution": true,
     "task": false
    }
   },
   "source": [
    "YOUR ANSWER HERE\n",
    "\n",
    "$$\n",
    "    A = \\begin{bmatrix} 1 & 1 \\\\\n",
    "                        1 & a \\\\\n",
    "         \\end{bmatrix} \\quad\\quad\n",
    "     A^{-1} = \\frac{1}{a-1}\\begin{bmatrix} a & -1 \\\\\n",
    "                        -1 & 1 \\\\\n",
    "         \\end{bmatrix} \n",
    "$$\n",
    "where $a\\in\\mathbb{R}$\n",
    "\n",
    "$p=1,2,\\infty$\n",
    "\n",
    "$||A||_1$  = $max(2, |a| + 1)$\n",
    "\n",
    "$||A||_\\infty$  = $max(2, |a| + 1)$\n",
    "\n",
    "$||A||_2$  = $max(\\text{Eigenvalues of A})$\n",
    "\n",
    "$$|A - \\lambda I| = 0$$\n",
    "\n",
    "$$(1- \\lambda)(a - \\lambda) - 1 = 0$$\n",
    "\n",
    "$$\\lambda^2 -(a + 1)\\lambda + a -1 = 0$$\n",
    "\n",
    "$$\\lambda = \\frac{a+1 \\pm \\sqrt{a^2 -2a + 5}}{2}$$\n",
    "\n",
    "$||A||_2$  = $\\max \\left(\\left|\\frac{a+1 + \\sqrt{a^2 -2a + 5}}{2}\\right|, \\left|\\frac{a+1 - \\sqrt{a^2 -2a + 5}}{2}\\right|\\right)$\n",
    "\n",
    "\n",
    "$p=1,2,\\infty$\n",
    "\n",
    "$||A^{-1}||_1$  = $max\\left(\\frac{|a| +1}{|a - 1|}, \\frac{2}{|a - 1|}\\right)$\n",
    "\n",
    "$||A^{-1}||_\\infty$  = $max\\left(\\frac{|a| +1}{|a - 1|}, \\frac{2}{|a - 1|}\\right)$\n",
    "\n",
    "$||A^{-1}||_2$  = $max(\\text{Eigenvalues of} A^{-1})$\n",
    "\n",
    "$$|A^{-1} - \\lambda I| = 0$$\n",
    "\n",
    "$$(\\frac{a}{a-1}- \\lambda)(\\frac{1}{a-1} - \\lambda) - 1 = 0$$\n",
    "\n",
    "$$\\lambda^2 -\\frac{a + 1}{a - 1}\\lambda + \\frac{1}{a-1} = 0$$\n",
    "\n",
    "$$\\lambda = \\frac{a+1 \\pm \\sqrt{a^2 -2a + 5}}{2(a-1)}$$\n",
    "\n",
    "$||A^{-1}||_2$  = $max\\left(\\left|\\frac{a+1 + \\sqrt{a^2 -2a + 5}}{2(a-1)}\\right|, \\left|\\frac{a+1 - \\sqrt{a^2 -2a + 5}}{2(a-1)}\\right|\\right)$\n",
    "\n",
    "$\\kappa_p(A) =||A||_p||A^{-1}||_p$ \n",
    "\n",
    "$p=1,2,\\infty$\n",
    "\n",
    "$$\\kappa_1(A) =||A||_1||A^{-1}||_1$$\n",
    "\n",
    "$$\\kappa_1(A) = \\max(2, |a| +1) * \\max(\\frac{|a| +1}{a - 1}, \\frac{2}{a - 1})$$\n",
    "\n",
    "$$\\kappa_{\\infty}(A) =||A||_{\\infty}||A^{-1}||_{\\infty}$$ \n",
    "\n",
    "$$\\kappa_{\\infty}(A) = \\max(2, |a| +1) * \\max(\\frac{|a| +1}{a - 1}, \\frac{2}{a - 1})$$\n",
    "\n",
    "$$\\kappa_2(A) =||A||_2||A^{-1}||_2$$\n",
    "\n",
    "$$\\kappa_2(A) = \\max \\left(\\left|\\frac{a+1 + \\sqrt{a^2 -2a + 5}}{2}\\right|, \\left|\\frac{a+1 - \\sqrt{a^2 -2a + 5}}{2}\\right|\\right) * max\\left(\\left|\\frac{a+1 + \\sqrt{a^2 -2a + 5}}{2(a-1)}\\right|, \\left|\\frac{a+1 - \\sqrt{a^2 -2a + 5}}{2(a-1)}\\right|\\right)$$\n",
    "\n",
    "\n",
    "p-norm $||A||_p$ for $p=1,2,\\infty$:\n",
    "* $||A||_1$  = $max(2, |a| +1)$\n",
    "\n",
    "* $||A||_\\infty$  = $max(2, |a|)$\n",
    "\n",
    "* $||A||_2$  = $\\max \\left(\\left|\\frac{a+1 + \\sqrt{a^2 -2a + 5}}{2}\\right|, \\left|\\frac{a+1 - \\sqrt{a^2 -2a + 5}}{2}\\right|\\right)$\n",
    "\n",
    "* $||A^{-1}||_1$  = $max\\left(\\frac{|a| +1}{|a - 1|}, \\frac{2}{|a - 1|}\\right)$\n",
    "\n",
    "* $||A^{-1}||_\\infty$  = $max\\left(\\frac{|a| +1}{|a - 1|}, \\frac{2}{|a - 1|}\\right)$\n",
    "\n",
    "* $||A^{-1}||_2$  = $max\\left(\\left|\\frac{a+1 + \\sqrt{a^2 -2a + 5}}{2(a-1)}\\right|, \\left|\\frac{a+1 - \\sqrt{a^2 -2a + 5}}{2(a-1)}\\right|\\right)$\n",
    "\n",
    "Condition number $\\kappa_p(A) =||A||_p||A^{-1}||_p$:\n",
    "\n",
    "* $\\kappa_1(A) = \\max(2, |a| +1) * \\max(\\frac{|a| +1}{|a - 1|}, \\frac{2}{|a - 1|})$\n",
    "\n",
    "* $\\kappa_{\\infty}(A) = \\max(2, |a| +1) * \\max(\\frac{|a| +1}{|a - 1|}, \\frac{2}{|a - 1|})$\n",
    "\n",
    "* $\\kappa_2(A) = \\max \\left(\\left|\\frac{a+1 + \\sqrt{a^2 -2a + 5}}{2}\\right|, \\left|\\frac{a+1 - \\sqrt{a^2 -2a + 5}}{2}\\right|\\right) * max\\left(\\left|\\frac{a+1 + \\sqrt{a^2 -2a + 5}}{2(a-1)}\\right|, \\left|\\frac{a+1 - \\sqrt{a^2 -2a + 5}}{2(a-1)}\\right|\\right)$\n"
   ]
  },
  {
   "cell_type": "markdown",
   "metadata": {
    "deletable": false,
    "editable": false,
    "nbgrader": {
     "cell_type": "markdown",
     "checksum": "1231f4e7c5b03567326bfbde490b610f",
     "grade": false,
     "grade_id": "cell-939ff0252d09d20b",
     "locked": true,
     "schema_version": 3,
     "solution": false,
     "task": false
    }
   },
   "source": [
    "**(b)** [6] write two short python routine that returns $||A||_p$, and $\\kappa_p(A)$ for the matrices in part (a). Again, just consider $p=1,2,\\infty$) and raise a ValueError if $p$ is any other value."
   ]
  },
  {
   "cell_type": "code",
   "execution_count": 17,
   "metadata": {
    "deletable": false,
    "nbgrader": {
     "cell_type": "code",
     "checksum": "b5572b1eb7f3d61ed1735299ea664f30",
     "grade": false,
     "grade_id": "cell-c667be6cb51d494a",
     "locked": false,
     "schema_version": 3,
     "solution": true,
     "task": false
    }
   },
   "outputs": [],
   "source": [
    "def mypnorm(a, p ):\n",
    "    \"\"\"\n",
    "    return ||A||_p for A = [[ 1, 1],\n",
    "                            [ 1, a]]\n",
    "                            \n",
    "    for p=1, 2, or numpy.infty\n",
    "    \n",
    "    parameters:\n",
    "    -----------\n",
    "    \n",
    "    a: scalar \n",
    "        value of a\n",
    "    p: scalar\n",
    "        1, 2 or np.infty\n",
    "    returns:\n",
    "    --------\n",
    "    pnorm(a)\n",
    "    \n",
    "    raises:\n",
    "    --------\n",
    "    ValueError:  if p is not in [ 1, 2, numpy.infty]\n",
    "    \"\"\"\n",
    "    # YOUR CODE HERE\n",
    "    eigen_1 = numpy.abs(0.5*(numpy.sqrt(a**2-2*a+5)+a+1))\n",
    "    eigen_2 = numpy.abs(0.5*(-numpy.sqrt(a**2-2*a+5)+a+1))\n",
    "        \n",
    "    if p==1 or p==numpy.infty:\n",
    "        return numpy.max([2,1+numpy.abs(a)])\n",
    "    elif p==2:\n",
    "        return numpy.max([eigen_1, eigen_2])\n",
    "    else:\n",
    "        raise ValueError()\n",
    "\n",
    "    \n",
    "def mycond(a, p):\n",
    "    \"\"\"\n",
    "    write your own docstring to return the condition number\n",
    "    \"\"\"\n",
    "    # YOUR CODE HERE\n",
    "    try:\n",
    "        a_1 = abs(a/(a-1))\n",
    "        a_2 = 1/abs(a-1)\n",
    "        eigen_1 = numpy.abs(0.5*(numpy.sqrt(a**2-2*a+5)+a+1))\n",
    "        eigen_2 = numpy.abs(0.5*(-numpy.sqrt(a**2-2*a+5)+a+1))\n",
    "        eigen_3 = numpy.abs(1/(2*(a-1))*(numpy.sqrt(a**2-2*a+5)+a+1))\n",
    "        eigen_4 = numpy.abs(1/(2*(a-1))*(-numpy.sqrt(a**2-2*a+5)+a+1))\n",
    "    except:\n",
    "        return numpy.nan\n",
    "    \n",
    "    \n",
    "    if p == 1 or p == numpy.infty:\n",
    "        return numpy.max([2, 1 + numpy.abs(a)])* numpy.max([a_1 + a_2, 2*a_2])\n",
    "    elif p == 2:\n",
    "        return numpy.max([eigen_1, eigen_2]) * numpy.max([eigen_3, eigen_4])\n",
    "    else:\n",
    "        raise ValueError()\n",
    "          "
   ]
  },
  {
   "cell_type": "code",
   "execution_count": 18,
   "metadata": {
    "deletable": false,
    "editable": false,
    "nbgrader": {
     "cell_type": "code",
     "checksum": "602939281f7495713121358d809f1145",
     "grade": true,
     "grade_id": "cell-3006090e2e083282",
     "locked": true,
     "points": 6,
     "schema_version": 3,
     "solution": false,
     "task": false
    }
   },
   "outputs": [
    {
     "name": "stdout",
     "output_type": "stream",
     "text": [
      "||A||_1 = [3.0, 2.0, 2.0000999999999998, 3.0]\n",
      "||A||_2 = [2.302775637731995, 1.618033988749895, 2.00005000125, 2.618033988749895]\n",
      "||A||_inf = [3.0, 2.0, 2.0000999999999998, 3.0]\n",
      "Successful Norm test\n",
      "k(A)_1 = [3.0, 4.0, 40004.0001000044, 9.0]\n",
      "k(A)_2 = [1.7675918792439982, 2.618033988749895, 40002.00007500565, 6.854101966249685]\n",
      "k(A)_inf = [3.0, 4.0, 40004.0001000044, 9.0]\n",
      "Successful condition number test\n",
      "Success: you caught the ValueError\n"
     ]
    }
   ],
   "source": [
    "A = lambda a: numpy.array([ [ 1, 1], [1, a]])\n",
    "aa = numpy.array([ -2, 0, 1.0001, 2])\n",
    "\n",
    "\n",
    "for p in [ 1, 2, numpy.infty]:\n",
    "    normp = [ mypnorm(a, p) for a in aa]\n",
    "    test = [ numpy.linalg.norm(A(a), ord=p) for a in aa]    \n",
    "    print('||A||_{} = {}'.format(p, normp))\n",
    "    numpy.testing.assert_allclose(normp,test)\n",
    "print('Successful Norm test')\n",
    "\n",
    "for p in [ 1, 2, numpy.infty]:\n",
    "    condp = [ mycond(a, p) for a in aa]\n",
    "    test = [ numpy.linalg.cond(A(a), p) for a in aa]    \n",
    "    print('k(A)_{} = {}'.format(p, condp))\n",
    "    numpy.testing.assert_allclose(condp,test)\n",
    "print('Successful condition number test')\n",
    "\n",
    "# test the exception\n",
    "try:\n",
    "    mypnorm(0.,4)\n",
    "except ValueError as err:\n",
    "    print('Success: you caught the ValueError')\n",
    "else:\n",
    "    assert False, 'whoops, missed the exception'\n"
   ]
  },
  {
   "cell_type": "markdown",
   "metadata": {
    "deletable": false,
    "editable": false,
    "nbgrader": {
     "cell_type": "markdown",
     "checksum": "cf487ceb24463d0231424f53746b4c45",
     "grade": false,
     "grade_id": "cell-41eb679977efecde",
     "locked": true,
     "schema_version": 3,
     "solution": false,
     "task": false
    }
   },
   "source": [
    " **(c)** [4] Make a plot comparing $\\log(\\kappa(A))$ vs $a$ for the different matrix norms over the range $a\\in[-15,15]$. (you can check it by plotting `numpy.linalg.cond(A, ord)` as well. As always, make it pretty."
   ]
  },
  {
   "cell_type": "code",
   "execution_count": 27,
   "metadata": {
    "deletable": false,
    "nbgrader": {
     "cell_type": "code",
     "checksum": "eb7f103dadba8a5985a369568f9453a7",
     "grade": true,
     "grade_id": "cell-3545654a9ef25ac9",
     "locked": false,
     "points": 4,
     "schema_version": 3,
     "solution": true,
     "task": false
    }
   },
   "outputs": [
    {
     "data": {
      "image/png": "[encoded data removed]",
      "text/plain": [
       "<Figure size 1080x576 with 1 Axes>"
      ]
     },
     "metadata": {
      "needs_background": "light"
     },
     "output_type": "display_data"
    },
    {
     "data": {
      "image/png": "[encoded data removed]",
      "text/plain": [
       "<Figure size 1080x576 with 1 Axes>"
      ]
     },
     "metadata": {
      "needs_background": "light"
     },
     "output_type": "display_data"
    }
   ],
   "source": [
    "# YOUR CODE HERE\n",
    "import pandas\n",
    "\n",
    "a = [i for i in range(-15, 16)]\n",
    "A = lambda a: numpy.array([ [ 1, 1], [1, a]])\n",
    "k1 = [numpy.log(mycond(i,1)) for i in range(-15, 16)]\n",
    "k_1 = [numpy.log(numpy.linalg.cond(A(i), 1)) for i in range(-15, 16)]\n",
    "k2 = [numpy.log(mycond(i,2)) for i in range(-15, 16)]\n",
    "k_2 = [numpy.log(numpy.linalg.cond(A(i), 2)) for i in range(-15, 16)]\n",
    "kinf = [numpy.log(mycond(i,numpy.infty)) for i in range(-15, 16)]\n",
    "k_inf = [numpy.log(numpy.linalg.cond(A(i), numpy.infty)) for i in range(-15, 16)]\n",
    "\n",
    "\n",
    "fig = plt.figure(figsize=(15,8))\n",
    "axes = fig.add_subplot(1,1,1)\n",
    "axes.plot(a,k1,'o',label='$log(\\kappa_{1}(A))$ using mycond')\n",
    "axes.plot(a,k_1,'o',label='$log(\\kappa_{1}(A))$ using numpy')\n",
    "axes.plot(a,k2,'o',label='$log(\\kappa_{2}(A))$ using mycond')\n",
    "axes.plot(a,k_2,'o',label='$log(\\kappa_{2}(A))$ using numpy')\n",
    "axes.plot(a,kinf,'o', label='$log(\\kappa_{\\infty}(A))$ using mycond')\n",
    "axes.plot(a,k_inf,'o',label='$log(\\kappa_{\\infty}(A))$ using numpy')\n",
    "axes.grid()\n",
    "axes.set_title(\"Discrete values of $a$ vs $log(\\kappa_{1}(A))$\")\n",
    "axes.set_xlabel('$a$')\n",
    "axes.set_ylabel('$log(\\kappa_{1}(A))$')\n",
    "axes.legend()\n",
    "\n",
    "a1 = numpy.linspace(-15, 15, 100)\n",
    "A = lambda a: numpy.array([ [ 1, 1], [1, a]])\n",
    "k11 = [numpy.log(mycond(i,1)) for i in a1]\n",
    "k_11 = [numpy.log(numpy.linalg.cond(A(i), 1)) for i in a1]\n",
    "k22 = [numpy.log(mycond(i,2)) for i in a1]\n",
    "k_22 = [numpy.log(numpy.linalg.cond(A(i), 2)) for i in a1]\n",
    "kinf1 = [numpy.log(mycond(i,numpy.infty)) for i in a1]\n",
    "k_inf1 = [numpy.log(numpy.linalg.cond(A(i), numpy.infty)) for i in a1]\n",
    "\n",
    "fig1 = plt.figure(figsize=(15,8))\n",
    "axes1 = fig1.add_subplot(1,1,1)\n",
    "axes1.semilogy(a1,k11, label='$log(\\kappa_{1}(A))$ using mycond')\n",
    "axes1.plot(a1,k_11, label='$log(\\kappa_{1}(A))$ using numpy')\n",
    "axes1.plot(a1,k22, label='$log(\\kappa_{2}(A))$ using mycond')\n",
    "axes1.plot(a1,k_22, label='$log(\\kappa_{2}(A))$ using numpy')\n",
    "axes1.plot(a1,kinf1, label='$log(\\kappa_{\\infty}(A))$ using mycond')\n",
    "axes1.plot(a1,k_inf1,label='$log(\\kappa_{\\infty}(A))$ using numpy')\n",
    "axes1.grid()\n",
    "axes1.set_title(\"Continous values of $a$ vs $log(\\kappa_{1}(A))$\")\n",
    "axes1.set_xlabel('$a$')\n",
    "axes1.set_ylabel('$log(\\kappa_{1}(A))$')\n",
    "axes1.legend()\n",
    "\n",
    "condition_table = pandas.DataFrame({'a': a, 'k1': k1, 'k2': k2, 'kinf': kinf})\n",
    "# display(condition_table)"
   ]
  },
  {
   "cell_type": "code",
   "execution_count": 28,
   "metadata": {},
   "outputs": [
    {
     "name": "stdout",
     "output_type": "stream",
     "text": [
      "    a        k1            k2      kinf\n",
      "14 -1  0.693147  2.220446e-16  0.693147\n",
      "    a        k1            k2      kinf\n",
      "14 -1  0.693147  2.220446e-16  0.693147\n",
      "     a       k1        k2     kinf\n",
      "30  15  2.90612  2.786496  2.90612\n",
      "     a       k1        k2     kinf\n",
      "30  15  2.90612  2.786496  2.90612\n",
      "    a        k1        k2      kinf\n",
      "18  3  2.079442  1.762747  2.079442\n",
      "    a        k1        k2      kinf\n",
      "18  3  2.079442  1.762747  2.079442\n",
      "0.6931471805599453\n",
      "4.440892098500625e-16\n",
      "0.6931471805599453\n"
     ]
    }
   ],
   "source": [
    "print(condition_table.loc[lambda x : x['k1']==x['k1'].min()])\n",
    "print(condition_table.loc[lambda x : x['k2']==x['k2'].min()])\n",
    "print(condition_table.loc[lambda x : x['k1']==x['k1'].max()])\n",
    "print(condition_table.loc[lambda x : x['k2']==x['k2'].max()])\n",
    "condition_table_1 = condition_table[(condition_table['a'] > 1)]\n",
    "print(condition_table_1.loc[lambda x : x['k1']==x['k1'].min()])\n",
    "print(condition_table_1.loc[lambda x : x['k2']==x['k2'].min()])\n",
    "\n",
    "print(numpy.log(numpy.linalg.cond(A(-1), 1)))\n",
    "print(numpy.log(numpy.linalg.cond(A(-1), 2)))\n",
    "print(numpy.log(numpy.linalg.cond(A(-1), numpy.infty)))"
   ]
  },
  {
   "cell_type": "markdown",
   "metadata": {
    "deletable": false,
    "editable": false,
    "nbgrader": {
     "cell_type": "markdown",
     "checksum": "3ba7346b5a7a8060b1df2d22447c339c",
     "grade": false,
     "grade_id": "cell-5fb5d0bb6e0da5c2",
     "locked": true,
     "schema_version": 3,
     "solution": false,
     "task": false
    }
   },
   "source": [
    "**(d)** [8] Given your plot comment on the following:\n",
    "* What value of $a$ gives the best conditioned matrix.  Why?\n",
    "* What value of $a$ gives the least well-condition matrix.  Why?\n",
    "* Does it matter which norm we measure the condition number in?\n",
    "* What value of $a$ gives the best conditioned matrix for $a>1$\n",
    " "
   ]
  },
  {
   "cell_type": "markdown",
   "metadata": {
    "deletable": false,
    "nbgrader": {
     "cell_type": "markdown",
     "checksum": "ae0dc4e2df0adf7f87903c41c861f0ee",
     "grade": true,
     "grade_id": "cell-a89f6c416aee9453",
     "locked": false,
     "points": 8,
     "schema_version": 3,
     "solution": true,
     "task": false
    }
   },
   "source": [
    "YOUR ANSWER HERE\n",
    "\n",
    "* $a = -1$ gives the best conditioned matrix because $a = -1$ has smallest condition numbers $k_1, k_2, k_{\\infty}$. $k_1 = 0.693147$ and $k_2 = 2.220446e-16$ and $k_{\\infty} = 0.693147$ \n",
    "* $a = 15$ gives the least well-condition matrix. $a = -1$ has largest condition numbers. $k_1, k_2, k_{\\infty}$ $k_1 = 2.90612$ and $k_2 = 2.786496$ and $k_{\\infty} = 2.90612$ \n",
    "* It does not matter which norm we measure the condition number in. Ex- $a = -1$ has least $k_1, k_2, k_{\\infty}$ $k_1 = 0.693147$ and $k_2 = 2.220446e-16$ and $k_{\\infty} = 0.693147$ \n",
    "* $a = 3$ gives the best conditioned matrix for $a>1$ $k_1 = 2.079442$ and $k_2 = 1.762747$ and $k_{\\infty} = 2.079442$ \n"
   ]
  },
  {
   "cell_type": "markdown",
   "metadata": {
    "deletable": false,
    "editable": false,
    "nbgrader": {
     "cell_type": "markdown",
     "checksum": "182b150859e061266149ccce1cc29a18",
     "grade": false,
     "grade_id": "cell-d2fbff392abf8869",
     "locked": true,
     "schema_version": 3,
     "solution": false,
     "task": false
    }
   },
   "source": [
    "## Question 2: Conditioning and LU factorization\n",
    "\n",
    "Consider the two identical linear problems $A\\mathbf{x}=\\bf{b}$\n",
    "\n",
    "$$\n",
    "    \\begin{bmatrix} \\epsilon & 1 \\\\ 1 & 1 \\\\ \\end{bmatrix}\\mathbf{x}=\\begin{bmatrix} 1\\\\ 2\\end{bmatrix} \\quad\\quad\n",
    "     \\begin{bmatrix} 1 & 1 \\\\\\epsilon & 1 \\\\ \\end{bmatrix}\\mathbf{x}=\\begin{bmatrix} 2\\\\ 1\\end{bmatrix} \n",
    "$$\n",
    "where $\\epsilon \\ll \\epsilon_{mach}$"
   ]
  },
  {
   "cell_type": "markdown",
   "metadata": {
    "deletable": false,
    "editable": false,
    "nbgrader": {
     "cell_type": "markdown",
     "checksum": "348096f96c926a217a56d61a59bee46f",
     "grade": false,
     "grade_id": "cell-fe9f3bc24c4ad049",
     "locked": true,
     "schema_version": 3,
     "solution": false,
     "task": false
    }
   },
   "source": [
    "**(a)**  [6 pts] Find the 1 condition number of both matrices. Are they the same?  Are these matrices well conditioned? Check your answer using numpy with $\\epsilon = 0.1\\epsilon_{mach}$"
   ]
  },
  {
   "cell_type": "markdown",
   "metadata": {
    "deletable": false,
    "nbgrader": {
     "cell_type": "markdown",
     "checksum": "f0afa7a8b9179c7ba4fd7c7e8b3346be",
     "grade": true,
     "grade_id": "cell-2dc5b9cc6e893b84",
     "locked": false,
     "points": 4,
     "schema_version": 3,
     "solution": true,
     "task": false
    }
   },
   "source": [
    "YOUR ANSWER HERE\n",
    "\n",
    "$$\n",
    "    A_1 = \\begin{bmatrix} \\epsilon & 1 \\\\\n",
    "                        1 & 1 \\\\\n",
    "         \\end{bmatrix} \\quad\\quad\n",
    "     A_1^{-1} = \\frac{1}{\\epsilon-1}\\begin{bmatrix} 1 & -1 \\\\\n",
    "                        -1 & \\epsilon \\\\\n",
    "         \\end{bmatrix} \n",
    "$$\n",
    "\n",
    "$$\n",
    "    A_2 = \\begin{bmatrix} 1 & 1 \\\\\n",
    "                        \\epsilon & 1 \\\\\n",
    "         \\end{bmatrix} \\quad\\quad\n",
    "     A_2^{-1} = \\frac{1}{1 - \\epsilon}\\begin{bmatrix} 1 & -1 \\\\\n",
    "                        -\\epsilon & 1 \\\\\n",
    "         \\end{bmatrix} \n",
    "$$\n",
    "\n",
    "$$\\kappa_1(A) = \\max(2, |\\epsilon| +1) * \\max \\left(\\frac{|\\epsilon| +1}{|\\epsilon - 1|}, \\frac{2}{|\\epsilon - 1|}\\right)$$\n",
    "\n",
    "$$\\kappa_1(A_1) = \\max(2, |\\epsilon| +1) * \\max \\left(\\frac{|\\epsilon| +1}{|\\epsilon - 1|}, \\frac{2}{|\\epsilon - 1|}\\right)$$\n",
    "\n",
    "$$\\kappa_1(A_2) = \\max(2, |\\epsilon| +1) * \\max \\left(\\frac{|\\epsilon| +1}{|\\epsilon - 1|}, \\frac{2}{|\\epsilon - 1|}\\right)$$\n",
    "\n",
    "* $\\kappa_1(A_1) = \\kappa_2(A_1) = \\max(2, |\\epsilon| +1) * \\max \\left(\\frac{|\\epsilon| +1}{|\\epsilon - 1|}, \\frac{2}{|\\epsilon - 1|}\\right)$\n",
    "\n",
    "* They are same. $\\kappa_1(A_1) = \\kappa_2(A_1) = 4$.\n",
    "* $A_1, A_2$ are well conditioned matrix with $\\kappa_1(A_1) = \\kappa_2(A_1) = 4."
   ]
  },
  {
   "cell_type": "code",
   "execution_count": 15,
   "metadata": {
    "deletable": false,
    "nbgrader": {
     "cell_type": "code",
     "checksum": "9585c969563122ef5aa8b1d54cb9e8f5",
     "grade": true,
     "grade_id": "cell-224f9ba2c164bdf8",
     "locked": false,
     "points": 2,
     "schema_version": 3,
     "solution": true,
     "task": false
    }
   },
   "outputs": [
    {
     "name": "stdout",
     "output_type": "stream",
     "text": [
      "Condition Number of A1:  4.0\n",
      "Condition Number of A2:  4.0\n"
     ]
    }
   ],
   "source": [
    "# YOUR CODE HERE\n",
    "A1 = lambda e: numpy.array([ [ e, 1], [1, 1]])\n",
    "A2 = lambda e: numpy.array([ [ 1, 1], [e, 1]])\n",
    "e = 0.1 * numpy.finfo(float).eps\n",
    "print('1-Condition Number of A1: ', numpy.linalg.cond(A1(e), 1))\n",
    "print('1-Condition Number of A2: ',numpy.linalg.cond(A2(e), 1))"
   ]
  },
  {
   "cell_type": "markdown",
   "metadata": {},
   "source": [
    "**(b)**  [4 pts] Solve both problems analytically using the $LU$ decomposition without pivoting but applying the rules of floating point math.  Do you get the same answer?  "
   ]
  },
  {
   "cell_type": "markdown",
   "metadata": {},
   "source": [
    "the $LU$ decomposition of  \n",
    "$$ A_1 =  \\begin{bmatrix} \\epsilon & 1 \\\\ 1 & 1 \\\\ \\end{bmatrix}$$\n",
    "is\n",
    "\n",
    "$$ A_1 =  \\begin{bmatrix} 1 & 0 \\\\ \\frac{1}{\\epsilon} & 1 \\\\ \\end{bmatrix}\n",
    "          \\begin{bmatrix} \\epsilon & 1 \\\\ 0  & 1 - \\frac{1}{\\epsilon} \\\\ \\end{bmatrix}\n",
    "$$\n",
    "\n",
    "and for \n",
    "$$ A_2 =  \\begin{bmatrix}  1 & 1 \\\\ \\epsilon & 1 \\\\ \\end{bmatrix}$$\n",
    "with $LU$ factorization\n",
    "\n",
    "$$ A_2 =  \\begin{bmatrix} 1 & 0 \\\\ \\epsilon & 1 \\\\ \\end{bmatrix}\n",
    "          \\begin{bmatrix} 1 & 1 \\\\ 0  & 1 - \\epsilon \\\\ \\end{bmatrix}\n",
    "$$\n",
    "\n",
    "Solving $L\\mathbf{c} = \\mathbf{b}$ then $U\\mathbf{x}=\\mathbf{c}$ \n",
    "\n",
    "for the first problem:\n",
    "\n",
    "$$\n",
    "    L_1\\mathbf{c_1} = \\begin{bmatrix} 1\\\\2\\\\\\end{bmatrix}\n",
    "$$\n",
    "\n",
    "or \n",
    "$$\n",
    "\\mathbf{c_1} = \\begin{bmatrix} 1. \\\\ 2 - 1./\\epsilon \\\\ \\end{bmatrix} \\approx \\begin{bmatrix} 1. \\\\  -1./\\epsilon \\\\ \\end{bmatrix}\n",
    "$$\n",
    "in finite precision...Likewise $U_1$ in finite precisions solve\n",
    "$$\n",
    "    \\begin{bmatrix} \\epsilon & 1 \\\\ 0  & - \\frac{1}{\\epsilon} \\\\ \\end{bmatrix}\\mathbf{x_1} = \\begin{bmatrix} 1. \\\\  -\\frac{1}{\\epsilon} \\\\ \\end{bmatrix}\n",
    "$$ \n",
    "gives\n",
    "$$\n",
    "    \\mathbf{x_1} = \\begin{bmatrix} 0.\\\\ 1 \\\\ \\end{bmatrix} \n",
    "$$\n",
    "\n",
    "The other problem gives \n",
    "\n",
    "$$\\mathbf{c_2} = \\begin{bmatrix} 2 \\\\ 1 -2\\epsilon \\\\ \\end{bmatrix}\\approx\\begin{bmatrix} 2 \\\\ 1 \\\\ \\end{bmatrix}\n",
    "$$\n",
    "\n",
    "and\n",
    "\n",
    "$$\\mathbf{x_2} = \\begin{bmatrix} 1 \\\\ 1\\\\ \\end{bmatrix}\n",
    "$$\n",
    "which is different"
   ]
  },
  {
   "cell_type": "markdown",
   "metadata": {
    "deletable": false,
    "editable": false,
    "nbgrader": {
     "cell_type": "markdown",
     "checksum": "370eb0fda5cb783237bb5208ff8afc15",
     "grade": false,
     "grade_id": "cell-b8a0da20128bddae",
     "locked": true,
     "schema_version": 3,
     "solution": false,
     "task": false
    }
   },
   "source": [
    "**(c)**  [6 pts] Check your solutions using numpy.  \n",
    "\n",
    "For each problem \n",
    "* Calculate the solution using $L\\mathbf{c}=\\mathbf{b}$, $U\\mathbf{x}=\\mathbf{c}$ for each pair of $L,U$ derived above (you can use numpy here with $\\epsilon=0.1\\epsilon_{mach}$)\n",
    "* Calculate the 1-condition number for each $L$ and $U$ \n",
    "\n",
    "Briefly explain these results\n"
   ]
  },
  {
   "cell_type": "code",
   "execution_count": 47,
   "metadata": {
    "deletable": false,
    "nbgrader": {
     "cell_type": "code",
     "checksum": "344ff4ea570762b143d206c2c8a234d1",
     "grade": true,
     "grade_id": "cell-4da8bf6a9034a983",
     "locked": false,
     "points": 4,
     "schema_version": 3,
     "solution": true,
     "task": false
    }
   },
   "outputs": [
    {
     "name": "stdout",
     "output_type": "stream",
     "text": [
      "c1:  [ 1.000000000000000e+00 -4.503599627370496e+16]\n",
      "c2:  [2. 1.]\n",
      "x1:  [0. 1.]\n",
      "x2:  [1. 1.]\n",
      "1-Condition Number of A1:  4.0\n",
      "1-Condition Number of A2:  4.0\n",
      "1-Condition Number of L1:  2.028240960365167e+33\n",
      "1-Condition Number of L2:  1.0\n",
      "1-Condition Number of U1:  2.028240960365167e+33\n",
      "1-Condition Number of U2:  4.0\n"
     ]
    },
    {
     "name": "stderr",
     "output_type": "stream",
     "text": [
      "/opt/conda/lib/python3.8/site-packages/scipy/sparse/linalg/dsolve/linsolve.py:144: SparseEfficiencyWarning: spsolve requires A be CSC or CSR matrix format\n",
      "  warn('spsolve requires A be CSC or CSR matrix format',\n"
     ]
    }
   ],
   "source": [
    "# YOUR CODE HERE\n",
    "from scipy.sparse.linalg import spsolve\n",
    "\n",
    "L1 = lambda e: numpy.array([ [ 1, 0], [1/e, 1]])\n",
    "L2 = lambda e: numpy.array([ [ 1, 0], [e, 1]])\n",
    "U1 = lambda e: numpy.array([ [ e, 1], [0, 1 - 1/e]])\n",
    "U2 = lambda e: numpy.array([ [ 1, 1], [0, 1-e]])\n",
    "e = 0.1 * numpy.finfo(float).eps\n",
    "b1 = numpy.array([ 1, 2])\n",
    "b2 = numpy.array([ 2, 1])\n",
    "c1 = spsolve(L1(e), b1)\n",
    "c2 = spsolve(L2(e), b2)\n",
    "x1 = spsolve(U1(e), c1)\n",
    "x2 = spsolve(U2(e), c2)\n",
    "print('c1: ', c1)\n",
    "print('c2: ', c2)\n",
    "print('x1: ', x1)\n",
    "print('x2: ', x2)\n",
    "print('1-Condition Number of A1: ', numpy.linalg.cond(A1(e), 1))\n",
    "print('1-Condition Number of A2: ',numpy.linalg.cond(A2(e), 1))\n",
    "print('1-Condition Number of L1: ', numpy.linalg.cond(L1(e), 1))\n",
    "print('1-Condition Number of L2: ',numpy.linalg.cond(L2(e), 1))\n",
    "print('1-Condition Number of U1: ', numpy.linalg.cond(U1(e), 1))\n",
    "print('1-Condition Number of U2: ',numpy.linalg.cond(U2(e), 1))"
   ]
  },
  {
   "cell_type": "markdown",
   "metadata": {
    "deletable": false,
    "nbgrader": {
     "cell_type": "markdown",
     "checksum": "a21c7eb1ed94668b06afc91276dbe974",
     "grade": true,
     "grade_id": "cell-dd5a0aeb1c479324",
     "locked": false,
     "points": 2,
     "schema_version": 3,
     "solution": true,
     "task": false
    }
   },
   "source": [
    "YOUR ANSWER HERE\n",
    "\n",
    "* Though the matrices $A_1$ and $A_2$ have same condition number $k_1 = 4$. But their corresponding $L_1$ and $L_2$ and $U_1$ and $U_2$ have different condition numbers.\n",
    "* $k_1 = 2.028240960365167e+33$ for $L_1$\n",
    "* $k_1 = 1$ for $L_2$\n",
    "* $k_1 = 2.028240960365167e+33$ for $U_1$\n",
    "* $k_1 = 4$ for $U_2$\n",
    "* Therefore, we are getting two different values of $x_1$ and $x_2$.\n",
    "* In case of $L_1$, $U_1$, the pivot value is $\\epsilon=0.1\\epsilon_{mach}$. Thus, the multiplier factor in this case is very small value which causes floating point error.\n",
    "* In case of $L_2$, $U_2$, the pivot value is 1. Thus, the multiplier factor does not have floating point error."
   ]
  },
  {
   "cell_type": "code",
   "execution_count": null,
   "metadata": {},
   "outputs": [],
   "source": []
  }
 ],
 "metadata": {
  "kernelspec": {
   "display_name": "Python 3",
   "language": "python",
   "name": "python3"
  },
  "language_info": {
   "codemirror_mode": {
    "name": "ipython",
    "version": 3
   },
   "file_extension": ".py",
   "mimetype": "text/x-python",
   "name": "python",
   "nbconvert_exporter": "python",
   "pygments_lexer": "ipython3",
   "version": "3.8.8"
  },
  "latex_envs": {
   "bibliofile": "biblio.bib",
   "cite_by": "apalike",
   "current_citInitial": 1,
   "eqLabelWithNumbers": true,
   "eqNumInitial": 0
  }
 },
 "nbformat": 4,
 "nbformat_minor": 4
}
